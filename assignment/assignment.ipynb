{
  "cells": [
    {
      "cell_type": "markdown",
      "metadata": {},
      "source": [
        "# Programming Exercise: Posterior Probabilties\n",
        "\n",
        "Just as we did dice_posterior right after dice_sample, now we'll be doing\n",
        "site_posterior after site_sample.  If you haven't done site_sample, go do it!\n",
        "\n",
        "The experimental setup is the same in this as in site_sample -- one of two models\n",
        "(motif or background) is selected with a fixed but unknown probability. The\n",
        "model is the used to generate a word (a sequence of a fixed length) and that\n",
        "word is presented to you, the observer. Many words are generated in this way.\n",
        "You must write code that calculates the posterior probability that each model\n",
        "was used to generate each word, given the parameters and prior probabilities of\n",
        "each model.\n",
        "\n",
        "Before starting any coding, sit down with a pen and paper and\n",
        "write the formula for the posterior probability of each sequence type as a\n",
        "function of its prior probability, the probability distribution on bases for\n",
        "each sequence type, and the bases actually observed.  Since there are only two \n",
        "possible models, the posteriors of these two must sum to one. To get the \n",
        "posteriors, you will use Bayes rule. This will give you something of the form \n",
        "$\\frac{x}{(x + y)}$."
      ]
    },
    {
      "cell_type": "markdown",
      "metadata": {},
      "source": [
        "# Input and Output\n",
        "\n",
        "The first line of your function should be:\n",
        "\n",
        "```python\n",
        "def site_posterior(sequence: list[int],\n",
        "                   sequence_model: SequenceModel) -> float:\n",
        "```\n",
        "\n",
        "**sequence** will be the list of bases observed in a draw, expressed in\n",
        "integers, with the mapping as described in site_sample:\n",
        "\n",
        "```raw\n",
        "A <-> 0\n",
        "C <-> 1\n",
        "G <-> 2\n",
        "T <-> 3\n",
        "```\n",
        "so a list of `[0,2,1,3]` would correspond to `[\"A\", \"G\", \"C\", \"T\"]`.  The length of\n",
        "sequence must be the same as the length of `site_base_probs`, which is an \n",
        "attribute of `sequence_model`.\n",
        "\n",
        "Hint: Since the nucleotides are encoded as the integers 0-3, you can use them\n",
        "as indices into the probabilities in `sequence_model`.\n",
        "\n",
        "**sequence_model** will be a SequenceModel object. \n",
        "\n",
        "You can \n",
        "\n",
        "<!--\n",
        "reference the \n",
        "[SequenceModel object documentation](https://cse587a.github.io/cse587Autils/SequenceObjects/API/SequenceModel.html), and \n",
        "see [usage examples](https://cse587a.github.io/cse587Autils/SequenceObjects/Usage/SequenceModel.html),\n",
        "in the cse587Autils documentation. \n",
        "-->\n",
        "\n",
        "A call to `site_posterior()` will look like:\n",
        "\n",
        "```python\n",
        ">>> site_base_probs = [[.1, .4, .4, .1], [.1, .4, .4, .1], [.8, .1, .1, 0]]\n",
        ">>> background_base_probs = [1/4, 1/4, 1/4, 1/4]\n",
        ">>> sm = SequenceModel(0.35, site_base_probs, background_base_probs)\n",
        ">>> site_posterior([1, 2, 0], site_base_probs)\n",
        "0.8151939042420107\n",
        "```\n",
        "\n",
        "The return value should be a single number representing the posterior\n",
        "probability that the sequence we drew was from a site bound by a transcription\n",
        "factor."
      ]
    },
    {
      "cell_type": "markdown",
      "metadata": {},
      "source": [
        "# Instructions and Grading\n",
        "\n",
        "As in dice_posterior, you should:\n",
        "\n",
        "1. Work out the math for what you want to do first!  Seriously it's so much\n",
        "   easier that way.\n",
        "1. Make sure you account for cases where you have a site/backgroundPrior of 0,\n",
        "   or you have a 0 probability for observing some base in the sequence\n",
        "\n",
        "As in the rest of the python modules, you are filling in code in the \n",
        "[assignment/assignment.py](assignment.py) file. Your code\n",
        "will be evaluated against the tests in \n",
        "[assignment/test_assignment.py](test_assignment.py). Note\n",
        "that when the tests are run for grading purposes, it is from a clean version of \n",
        "the test file. Any changes you make to the test file will not be reflected \n",
        "in the grading test run. Upload the entire repository to Gradescope to \n",
        "submit."
      ]
    }
  ],
  "metadata": {
    "kernelspec": {
      "display_name": "Python 3",
      "language": "python",
      "name": "python3"
    },
    "language_info": {
      "codemirror_mode": {
        "name": "ipython",
        "version": 3
      },
      "file_extension": ".py",
      "mimetype": "text/x-python",
      "name": "python",
      "nbconvert_exporter": "python",
      "pygments_lexer": "ipython3",
      "version": "3.9.0"
    }
  },
  "nbformat": 4,
  "nbformat_minor": 4
}
